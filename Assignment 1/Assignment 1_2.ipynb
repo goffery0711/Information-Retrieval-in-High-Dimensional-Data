{
 "cells": [
  {
   "cell_type": "markdown",
   "metadata": {},
   "source": [
    "# Assignment 1\n",
    "\n",
    "## Group 32"
   ]
  },
  {
   "cell_type": "markdown",
   "metadata": {},
   "source": [
    "*  Prerak Gupta -\n",
    "*  Chen Zhiyue -\n",
    "*  Jonathan Narvaez - 03708467\n",
    "*  Hao Ma - 03721529\n",
    "*  S - "
   ]
  },
  {
   "cell_type": "code",
   "execution_count": 2,
   "metadata": {},
   "outputs": [],
   "source": [
    "import numpy as np\n",
    "import matplotlib.pyplot as plt\n",
    "%matplotlib inline"
   ]
  },
  {
   "cell_type": "markdown",
   "metadata": {},
   "source": [
    "## Curse of Dimensionality"
   ]
  },
  {
   "cell_type": "markdown",
   "metadata": {},
   "source": [
    "### Task 1"
   ]
  },
  {
   "cell_type": "markdown",
   "metadata": {},
   "source": [
    "Let $\\mathit{C}_d = \\{\\mathit{x}\\in \\mathbb{R}^p\\mid\\|\\mathit{x}\\|_\\infty\\leq\\frac{d}{2}\\}$ denote the $\\mathit{p}$-dimensional hypercube of edge length $\\mathit{d}$, centered at the orign."
   ]
  },
  {
   "cell_type": "markdown",
   "metadata": {},
   "source": [
    "* Assume $\\mathit{X}$ to be uniformly distributed in $\\mathit{C}_1$. Determine $\\mathit{d}$ in dependence of $\\mathit{p}$ and $\\mathit{q}\\in[0, 1]$, such that\n",
    "$$Pr(\\mathit{X}\\in\\mathit{C}_d)=q$$\n",
    "holds."
   ]
  },
  {
   "cell_type": "code",
   "execution_count": null,
   "metadata": {},
   "outputs": [],
   "source": []
  },
  {
   "cell_type": "markdown",
   "metadata": {},
   "source": [
    "* Let the components of the $\\mathit{p}$-dimensional random variable $\\mathit{X}^p$ be independent and have the standard normal distribution. It is known that $Pr(|\\mathit{X}^1|\\leq2.576)=0.99$. For an arbitrary $\\mathit{p}$, determine the probability $Pr(\\|\\mathit{X}^p\\|_\\infty\\gt2.576)$ for any of the components of $\\mathit{X}^p$ to lie outside of the interval $[-2.576, 2.576]$. Evaluate the value for $\\mathit{p} = 2$, $\\mathit{p} = 3$ and $\\mathit{p} = 500$."
   ]
  },
  {
   "cell_type": "markdown",
   "metadata": {},
   "source": [
    "$$\n",
    "\\begin{align*}\n",
    "& \\text{For,} \\quad Pr(|\\mathit{X}^1| \\leq 2.576) = 0.99 &\\\\\n",
    "& \\text{Where,} \\quad Pr(\\|\\mathit{X}^p\\| \\leq 2.576) &\\\\\n",
    "& (\\|\\mathit{X}^p\\|_\\infty \\gt 2.576) = 1 - Pr(\\|\\mathit{X}^p\\| \\leq 2.576) &\\\\\n",
    "\\\\\n",
    "& \\text{Since,} \\quad \\mathit{X}^p_i \\text{ where } \\mathit{i} \\in [1,p] \\text{ is i.i.d, } \\quad Pr(||\\mathit{X}^p||_\\infty \\le 2.576)=\\prod_1^p Pr(|\\mathit{X}^p_i| \\le 2.576)=0.99^p &\\\\\n",
    "& \\text{Therefore,} \\quad Pr(\\|\\mathit{X}^p\\|_\\infty\\gt 2.576) = 1 - (0.99)^p &\\\\\n",
    "\\\\\n",
    "& \\text{For, } \\mathit{P}=2 \\quad Pr(||X^p||_\\infty \\gt 2.576)=1-0.99^2=0.0199 &\\\\\n",
    "& \\text{For, } \\mathit{P}=3 \\quad Pr(||X^p||_\\infty \\gt 2.576)=1-0.99^2=0.0297 &\\\\\n",
    "& \\text{For, } \\mathit{P}=500 \\quad Pr(||X^p||_\\infty \\gt 2.576)=1-0.99^{500}=0.9934 &\\\\\n",
    "\\end{align*}\n",
    "$$"
   ]
  },
  {
   "cell_type": "markdown",
   "metadata": {},
   "source": [
    "### Task 2"
   ]
  },
  {
   "cell_type": "markdown",
   "metadata": {},
   "source": [
    "Provide the PYTHON code to the following tasks (the code needs to be commented properly):"
   ]
  },
  {
   "cell_type": "markdown",
   "metadata": {},
   "source": [
    "* Sample 100 uniformly distributed random vectors from the box  $[-1, 1]^{d}$ for $\\mathit{p} = 2$."
   ]
  },
  {
   "cell_type": "code",
   "execution_count": 3,
   "metadata": {},
   "outputs": [
    {
     "name": "stdout",
     "output_type": "stream",
     "text": [
      "[[-1.29005804e-01  5.53775165e-01]\n",
      " [ 1.79396870e-01 -5.10153556e-01]\n",
      " [ 3.63503076e-01 -8.52993794e-01]\n",
      " [-2.89137423e-01  4.79879543e-01]\n",
      " [ 7.57813679e-01  1.97236411e-01]\n",
      " [-2.81444070e-01  9.80187801e-01]\n",
      " [-6.69838789e-01  7.49774108e-01]\n",
      " [-3.98146649e-01  6.80438607e-01]\n",
      " [-8.27690187e-01  2.85177014e-01]\n",
      " [ 3.76639660e-01 -1.86465788e-01]\n",
      " [ 9.39259602e-01 -4.19819457e-01]\n",
      " [ 2.52101602e-01  9.87031501e-01]\n",
      " [-8.48789293e-01  2.06520593e-01]\n",
      " [-2.97845613e-01 -8.59361047e-01]\n",
      " [ 7.76979187e-02 -5.15469998e-01]\n",
      " [ 6.40038348e-01  9.48313507e-01]\n",
      " [-3.21071366e-01  9.08274463e-01]\n",
      " [-9.16323308e-01 -4.99269670e-01]\n",
      " [-9.68369121e-01  9.30062155e-01]\n",
      " [-4.40666185e-01 -9.28940150e-01]\n",
      " [-2.55025633e-02 -4.91747057e-01]\n",
      " [ 8.10190167e-01 -4.09812543e-01]\n",
      " [-6.58852202e-01 -1.11591263e-01]\n",
      " [ 3.58212673e-01 -2.66395699e-01]\n",
      " [-8.45663922e-01  7.38637067e-01]\n",
      " [ 9.44840527e-03  7.54006758e-01]\n",
      " [-9.05188070e-01 -6.12202897e-01]\n",
      " [-3.50530959e-01 -4.13010728e-01]\n",
      " [ 6.32847187e-01 -5.77522074e-01]\n",
      " [-6.96914370e-01 -6.55612828e-01]\n",
      " [ 3.89347026e-03 -4.87010961e-01]\n",
      " [ 8.69863340e-01 -8.85333190e-01]\n",
      " [ 7.21806057e-01 -9.11153102e-01]\n",
      " [-3.67879346e-01  7.63994337e-01]\n",
      " [-4.10093770e-01 -2.41752727e-01]\n",
      " [ 6.01679946e-01 -8.42882460e-01]\n",
      " [ 6.04804023e-01  3.99405320e-01]\n",
      " [ 8.48852307e-01  3.10758689e-01]\n",
      " [ 4.71386209e-01 -6.48156055e-01]\n",
      " [-9.69454735e-01 -6.54611756e-01]\n",
      " [ 2.08055244e-02 -4.22267741e-01]\n",
      " [ 8.58647865e-01 -4.67025396e-01]\n",
      " [ 4.41304570e-01  8.94157571e-01]\n",
      " [-9.07609231e-01 -9.84128505e-02]\n",
      " [-6.63154607e-01 -7.36940015e-01]\n",
      " [ 7.90820454e-02  9.69334743e-01]\n",
      " [ 1.38847832e-01 -5.90029179e-02]\n",
      " [ 9.76651338e-01 -8.75031369e-01]\n",
      " [-4.99338361e-01 -8.92474939e-01]\n",
      " [ 6.05048328e-01 -4.99243882e-01]\n",
      " [ 4.01667664e-01 -6.22255299e-02]\n",
      " [-3.83593052e-01  7.31872712e-02]\n",
      " [-2.47000584e-01  6.36622529e-01]\n",
      " [ 7.63793937e-01 -4.44965436e-01]\n",
      " [ 7.62408963e-01 -3.10555723e-01]\n",
      " [ 9.21409604e-01 -3.00215037e-01]\n",
      " [-3.72837355e-01 -2.36589555e-01]\n",
      " [ 3.72901101e-01 -3.05362090e-01]\n",
      " [-2.67539692e-02 -7.42661366e-01]\n",
      " [ 5.37713018e-01  9.55324288e-01]\n",
      " [-3.48271985e-01 -9.23012514e-01]\n",
      " [-4.17905783e-01 -5.91963650e-01]\n",
      " [ 8.18889202e-01 -8.21611232e-01]\n",
      " [-3.00607020e-01  4.96593167e-01]\n",
      " [ 8.85868822e-01  9.88934333e-01]\n",
      " [ 5.81149163e-01  2.32326877e-01]\n",
      " [-8.07352452e-01 -4.61224180e-01]\n",
      " [-6.59061784e-04 -6.35241602e-01]\n",
      " [ 8.80499705e-01 -3.47387801e-01]\n",
      " [ 1.05161008e-01 -6.93673378e-01]\n",
      " [ 6.86103083e-01 -9.39276180e-01]\n",
      " [-1.12295488e-01 -1.08766426e-01]\n",
      " [-1.48943002e-02  8.80103609e-01]\n",
      " [-5.80083094e-01  8.30270793e-01]\n",
      " [-2.78376466e-01 -3.26395722e-01]\n",
      " [ 8.67261093e-01 -4.85358822e-01]\n",
      " [-9.78176237e-01  5.79921814e-01]\n",
      " [ 9.72594209e-01 -4.70976492e-01]\n",
      " [-5.33355537e-01 -8.10663887e-01]\n",
      " [ 9.28097554e-01 -4.47823190e-01]\n",
      " [ 6.81963880e-01  9.29542583e-01]\n",
      " [ 5.63530517e-01 -2.73050020e-01]\n",
      " [ 6.01695660e-01 -7.87938844e-02]\n",
      " [ 5.28615346e-01 -9.87721924e-02]\n",
      " [ 6.72553762e-01  8.00515642e-01]\n",
      " [-4.87536637e-01 -9.00276457e-01]\n",
      " [-7.65877276e-01 -4.84451568e-01]\n",
      " [-9.68687177e-01  6.05379483e-01]\n",
      " [ 4.39986681e-01  7.72751317e-01]\n",
      " [-4.04933764e-01  1.41958094e-01]\n",
      " [ 3.34617421e-01 -9.80315184e-01]\n",
      " [ 3.35762461e-01 -6.16236425e-01]\n",
      " [ 8.29112921e-02  9.53923577e-01]\n",
      " [ 5.95142509e-01  3.85292112e-01]\n",
      " [ 6.56970529e-01  9.95115567e-02]\n",
      " [-8.99351176e-01 -4.19567774e-01]\n",
      " [-9.51201735e-01 -9.69778419e-01]\n",
      " [-8.46743478e-01 -3.20635011e-01]\n",
      " [-9.35061855e-01  4.56434180e-01]\n",
      " [ 5.25466648e-01 -2.16928390e-01]]\n"
     ]
    },
    {
     "data": {
      "image/png": "[encoded data removed]",
      "text/plain": [
       "<Figure size 432x288 with 1 Axes>"
      ]
     },
     "metadata": {
      "needs_background": "light"
     },
     "output_type": "display_data"
    }
   ],
   "source": [
    "def ud_sample(b1, b2, n, d): \n",
    "# Returns uniformly distributed sample size n and d dimension\n",
    "# b1, b2 limits of the box [-1,1]^d\n",
    "    sample = np.random.uniform(b1, b2, [n, d])\n",
    "    return sample\n",
    "\n",
    "x = ud_sample(-1, 1, 100, 2)\n",
    "\n",
    "# Scatter plot sample\n",
    "plt.title('Uniformly Distributed RV from the box  $[−1,1]^d$  for  $p=2$')\n",
    "plt.xlabel('x')\n",
    "plt.ylabel('y')\n",
    "plt.scatter(x[:, 0], x[:, 1])\n",
    "print(x)"
   ]
  },
  {
   "cell_type": "markdown",
   "metadata": {},
   "source": [
    "* For each of the 100 vectors determine the minimum angle to all other vectors. Then compute the average of these minimum angles. Note that for two vectors\n",
    "$\\mathit{x}, \\mathit{y}$ the cosine of the angle between the two vectors is defined as\n",
    "$$\\cos{((\\mathit{x}, \\mathit{y}))} = \\frac{\\langle \\mathit{x}, \\mathit{y} \\rangle}{\\|\\mathit{x}\\|\\|\\mathit{y}\\|}.$$"
   ]
  },
  {
   "cell_type": "code",
   "execution_count": 4,
   "metadata": {},
   "outputs": [
    {
     "data": {
      "text/plain": [
       "0.027039395775553633"
      ]
     },
     "execution_count": 4,
     "metadata": {},
     "output_type": "execute_result"
    }
   ],
   "source": [
    "def angle(x, y): # Return angle between vextors (x, y), using the provided formula\n",
    "    if np.array_equal(x, y): # Check if both vectors have the same shape and elements\n",
    "        return 0\n",
    "    angle = np.arccos(np.dot(x, y) / (np.sqrt(x.dot(x)) * np.sqrt(y.dot(y))))\n",
    "    return angle\n",
    "\n",
    "def avm_angle(x): #Return average angle between 2 vectors. \n",
    "    n, d = x.shape \n",
    "    m_angle = np.zeros(n)\n",
    "    \n",
    "    for i, a in enumerate(x):\n",
    "#        for j, b in enumerate(x):\n",
    "#            if j!= i:\n",
    "#                m_angle[i] = min([angle(a,b)])\n",
    "            m_angle[i] = min([angle(a, b) \\\n",
    "                           for j, b in enumerate(x) if j!=i])\n",
    "    return np.average(m_angle)\n",
    "\n",
    "avm_angle(x)"
   ]
  },
  {
   "cell_type": "markdown",
   "metadata": {},
   "source": [
    "* Repeat the above for dimensions $\\mathit{d} = 1, ..., 1000$ and use the results to plot the average minimum angle against the dimension."
   ]
  },
  {
   "cell_type": "code",
   "execution_count": null,
   "metadata": {},
   "outputs": [],
   "source": [
    "d = np.arange(1,1001)\n",
    "x_out = np.zeros((1000,1))\n",
    "\n",
    "for di in d:\n",
    "    x = ud_sample(-1, 1, 1000, di)\n",
    "    x_out[di-1] = avm_angle(x)\n",
    "    \n",
    "print(x_out)\n",
    "\n",
    "# plot the average minimum angle against the dimension\n",
    "plt.title('the average minimum angle against the dimension')\n",
    "plt.xlabel('d')\n",
    "plt.ylabel('average min')\n",
    "plt.scatter(d, x_out)\n"
   ]
  },
  {
   "cell_type": "markdown",
   "metadata": {},
   "source": [
    "* Give an interpretation of the result. What conclusions can you draw for 2 randomly sampled vectors in a $\\mathit{d}$-dimensional space?"
   ]
  },
  {
   "cell_type": "code",
   "execution_count": 66,
   "metadata": {},
   "outputs": [
    {
     "name": "stdout",
     "output_type": "stream",
     "text": [
      "1\n"
     ]
    }
   ],
   "source": []
  },
  {
   "cell_type": "markdown",
   "metadata": {},
   "source": [
    "* Does the result change if the sample size increases?"
   ]
  },
  {
   "cell_type": "code",
   "execution_count": null,
   "metadata": {},
   "outputs": [],
   "source": []
  },
  {
   "cell_type": "markdown",
   "metadata": {},
   "source": [
    "## Statistical Decision Making"
   ]
  },
  {
   "cell_type": "markdown",
   "metadata": {},
   "source": [
    "### Task 3"
   ]
  },
  {
   "cell_type": "markdown",
   "metadata": {},
   "source": [
    "Answer the following questions. All answers must be justified."
   ]
  },
  {
   "cell_type": "markdown",
   "metadata": {},
   "source": [
    "* The numbers in Figure 1 show the probability of the respective event to happen (e.g. the probability for the event $\\mathit{X} = 1$ and $\\mathit{Y} = 1$ is 0.02). Is this table a\n",
    "probability table? If so, why?"
   ]
  },
  {
   "cell_type": "code",
   "execution_count": null,
   "metadata": {},
   "outputs": [],
   "source": [
    "This table is a probability table. Because the sum of all the probabilities is 1."
   ]
  },
  {
   "cell_type": "markdown",
   "metadata": {},
   "source": [
    "* Based on Figure 1 give the conditional expectation $\\mathbb{E}_{Y \\mid X=2}[\\mathit{Y}]$ and the probability of the event $\\mathit{X}=1$ under the condition that $\\mathit{Y}=3$."
   ]
  },
  {
   "cell_type": "code",
   "execution_count": 84,
   "metadata": {},
   "outputs": [
    {
     "name": "stdout",
     "output_type": "stream",
     "text": [
      "Expected value of y under x=2: 1.4067796610169492\n",
      "p(x=1 | y=3) = 0.7222222222222223\n"
     ]
    }
   ],
   "source": [
    "# joint probability table\n",
    "p_table = np.array([[0.4, 0.14, 0.05],[0.02,0.26,0.13]])\n",
    "\n",
    "# 1st row corresponds to y,\n",
    "# 2nd row corresponds to x.\n",
    "#X = np.array([[1, 2, 3, 1, 2, 3],\n",
    "#             [2, 2, 2, 1, 1, 1]])\n",
    "\n",
    "# marginal probabilities: sum accross rows\n",
    "p_x = np.sum(p_table,axis=1)\n",
    "p_y = np.sum(p_table,axis=0)\n",
    "\n",
    "# expected value of Y under x=2\n",
    "p_ycondxequals2 = p_table[0,:]/p_x[0]\n",
    "y = np.array([1,2,3])\n",
    "E_y = np.dot(p_ycondxequals2,y)\n",
    "print('Expected value of y under x=2: {}'.format(E_y))\n",
    "\n",
    "# conditional  p(x = 1 | y = 3)\n",
    "# p(A|B) = p(A \\intersect B) / p(B)\n",
    "p_xequals1condyequals3 = p_table[1,2] / p_y[2]\n",
    "print('p(x=1 | y=3) = {}'.format(p_xequals1condyequals3))\n",
    "\n"
   ]
  },
  {
   "cell_type": "markdown",
   "metadata": {},
   "source": [
    "* Is the function $\\mathit{p}(\\mathit{X}, \\mathit{Y})$ given by\n",
    "$$\n",
    "\\mathit{p}(\\mathit{X}, \\mathit{Y}) = \\begin{cases}\n",
    "1 & \\quad \\text{for } 0\\leq \\mathit{x}\\leq 1\\text{, } 0\\leq \\mathit{y}\\leq \\frac{1}{2} \\\\\n",
    "0 & \\quad \\text{otherwise} \\end{cases}\n",
    "$$\n",
    "a joint density function for two random variables?"
   ]
  },
  {
   "cell_type": "markdown",
   "metadata": {},
   "source": [
    "No. It is not a joint density function.\n",
    "\n",
    "$\\int^{1}_0 \\int^{\\frac{1}{2}}_0 p(X,Y)dxdy \\neq 1$"
   ]
  },
  {
   "cell_type": "markdown",
   "metadata": {},
   "source": [
    "* For two random variables $\\mathit{X}$ and $\\mathit{Y}$ the joint density function is given by\n",
    "$$\n",
    "\\mathit{p}(\\mathit{x}, \\mathit{y}) = \\begin{cases}\n",
    "2\\mathit{e}^{-(x+y)} & \\quad \\text{for } 0\\leq \\mathit{x}\\leq \\mathit{y}\\text{, } 0\\leq \\mathit{y} \\\\\n",
    "0 & \\quad \\text{otherwise.} \\end{cases}\n",
    "$$\n",
    "What are the marginal density functions for $\\mathit{X}$ and $\\mathit{Y}$ respectively?"
   ]
  },
  {
   "cell_type": "markdown",
   "metadata": {},
   "source": [
    "   The marginal density functions for X\n",
    "   \n",
    "   $p(x) = \\int^{\\infty}_x p(x,y)dy = \\int^{\\infty}_x 2e^{-(x+y)}dy = 2e^{-2x}$\n",
    "   \n",
    "   The marginal density functions for Y\n",
    "  \n",
    "   $p(y) = \\int^{y}_0 p(x,y)dx = \\int^{y}_0 2e^{-(x+y)}dx = 2(e^{-y}-e^{-2y})$"
   ]
  },
  {
   "cell_type": "markdown",
   "metadata": {},
   "source": [
    "* Let the joint density function of two random variables $\\mathit{X}$ and $\\mathit{Y}$ be given by\n",
    "$$\n",
    "\\mathit{p}(\\mathit{x}, \\mathit{y}) = \\begin{cases}\n",
    "\\frac{1}{15}(2\\mathit{x}+4\\mathit{y}) & \\quad \\text{for } 0\\leq \\mathit{x}\\leq 3\\text{, } 0\\leq \\mathit{y}\\leq 1 \\\\\n",
    "0 & \\quad \\text{otherwise.} \\end{cases}\n",
    "$$\n",
    "Determine the probability for $\\mathit{X}\\leq 2$ under the condition that $\\mathit{Y} = \\frac{1}{2}$."
   ]
  },
  {
   "cell_type": "markdown",
   "metadata": {},
   "source": [
    "   The marginal density functions for Y\n",
    "  \n",
    "   $p(y) = \\int^{3}_0 p(x,y)dx = \\int^{3}_0 \\frac{1}{15}(2x+4y)dx = \\frac{3}{5}+\\frac{4}{5}y$\n",
    "   \n",
    "   The conditional probability for x under y\n",
    "   \n",
    "   $p(x\\mid y) = \\frac{p(x,y)}{p(y)} = \\begin{cases} \\frac{2x+4y}{9+12y} & \\quad \\text{for }0\\leq \\mathit{x}\\leq 3\\text{, } 0\\leq \\mathit{y}\\leq 1 \\\\ 0 & \\quad \\text{otherwise.} \\end{cases}$\n",
    "   \n",
    "   $p(x\\mid y=\\frac{1}{2}) = \\begin{cases} \\frac{2}{15}(x+1) & \\quad \\text{for }0\\leq \\mathit{x}\\leq 3 \\\\ 0 & \\quad \\text{otherwise.} \\end{cases}$\n",
    "   \n",
    "   \n",
    "   The probability for $\\mathit{X}\\leq 2$ under the condition that $\\mathit{Y} = \\frac{1}{2}$\n",
    "   \n",
    "   \n",
    "   $p(\\mathit{X}\\leq 2\\mid\\mathit{Y}=\\frac{1}{2}) = \\int^2_0 p(x\\mid y=\\frac{1}{2})dx = \\frac{8}{15}$"
   ]
  },
  {
   "cell_type": "markdown",
   "metadata": {},
   "source": [
    "Show that the covariance matrix $\\mathit{C}$ of any random variable $\\mathit{X}\\in\\mathbb{R}^p$ is symmetric positive semidefinite, i.e. $\\mathit{C}=\\mathit{C}^T$ and $\\mathit{x}^T\\mathit{Cx}\\geq 0$ for any covariance matrix $\\mathit{C}\\in\\mathbb{R}^{p\\times p}$ and any $\\mathit{x}\\in\\mathbb{R}^p$."
   ]
  },
  {
   "cell_type": "markdown",
   "metadata": {},
   "source": [
    "* $\\mathit{C}=\\mathit{C}^T$\n",
    "$$\n",
    "\\begin{align*}\n",
    "& \\mathit{C} = \\mathbb{E}[(\\mathit{X}-\\mathit{\\mu})(\\mathit{X}-\\mathit{\\mu})^T] &\\\\\n",
    "& \\mathit{C} = \\mathbb{E}[(\\mathit{X}-\\mathit{\\mu})(\\mathit{X}^T-\\mathit{\\mu}^T)] &\\\\\n",
    "& \\mathit{C} = \\mathbb{E}(\\mathit{XX}^T-\\mathit{X\\mu}^T-\\mathit{\\mu X}^T+\\mathit{\\mu\\mu}^T) &\\\\\n",
    "& \\mathit{C} = \\mathbb{E}(\\mathit{XX}^T)-\\mathbb{E}(\\mathit{X\\mu}^T)-\\mathbb{E}(\\mathit{\\mu X}^T)+\\mathbb{E}(\\mathit{\\mu\\mu}^T) &\\\\\n",
    "& \\mathit{C} = \\mathbb{E}(\\mathit{XX}^T)-\\mathbb{E}(\\mathit{X})\\mathit{\\mu}^T-\\mathit{\\mu}\\mathbb{E}(\\mathit{X}^T)+\\mathit{\\mu\\mu}^T &\\\\\n",
    "& \\mathit{C} = \\mathbb{E}(\\mathit{XX}^T)-\\mathit{\\mu\\mu}^T-\\mathit{\\mu\\mu}^T+\\mathit{\\mu\\mu}^T &\\\\\n",
    "& \\mathit{C} = \\mathbb{E}(\\mathit{XX}^T)-\\mathit{\\mu\\mu}^T &\\\\\n",
    "\\\\\n",
    "& \\mathit{C}^T = \\mathbb{E}(\\mathit{XX}^T)^T-(\\mathit{\\mu\\mu}^T)^T &\\\\\n",
    "& \\mathit{C}^T = \\mathbb{E}((\\mathit{X}^T)^T(\\mathit{X})^T)-(\\mathit{\\mu}^T)^T(\\mathit{\\mu})^T &\\\\\n",
    "& \\mathit{C}^T = \\mathbb{E}(\\mathit{X}\\mathit{X}^T)-\\mathit{\\mu}\\mathit{\\mu}^T &\\\\\n",
    "& \\mathit{C}^T = \\mathit{C} &\\\\\n",
    "\\end{align*}\n",
    "$$"
   ]
  },
  {
   "cell_type": "markdown",
   "metadata": {},
   "source": [
    "* $\\mathit{x}^T\\mathit{Cx}\\geq 0$\n",
    "$$\n",
    "\\begin{align*}\n",
    "& \\mathit{C} = \\mathbb{E}[(\\mathit{X}-\\mathit{\\mu})(\\mathit{X}-\\mathit{\\mu})^T] &\\\\\n",
    "\\\\\n",
    "& \\mathit{x}^T\\mathit{Cx} = \\mathit{x}^T\\mathbb{E}[(\\mathit{X}-\\mathit{\\mu})(\\mathit{X}-\\mathit{\\mu})^T]\\mathit{x} &\\\\\n",
    "& \\mathit{x}^T\\mathit{Cx} = \\mathbb{E}(\\mathit{x}^T(\\mathit{X}-\\mathit{\\mu})(\\mathit{X}-\\mathit{\\mu})^T\\mathit{x}) &\\\\\n",
    "& \\mathit{x}^T\\mathit{Cx} = \\mathbb{E}((\\mathit{x}^T(\\mathit{X}-\\mathit{\\mu}))(\\mathit{x}(\\mathit{X}-\\mathit{\\mu}))^T) &\\\\\n",
    "& \\mathit{x}^T\\mathit{Cx} = \\mathbb{E}(YY^T) &\\\\\n",
    "& \\mathit{x}^T\\mathit{Cx} = \\mathbb{E}(Y^2) &\\\\\n",
    "& \\mathit{x}^T\\mathit{Cx} \\geq 0 &\\\\\n",
    "\\end{align*}\n",
    "$$"
   ]
  },
  {
   "cell_type": "code",
   "execution_count": null,
   "metadata": {},
   "outputs": [],
   "source": []
  }
 ],
 "metadata": {
  "kernelspec": {
   "display_name": "Python 3",
   "language": "python",
   "name": "python3"
  },
  "language_info": {
   "codemirror_mode": {
    "name": "ipython",
    "version": 3
   },
   "file_extension": ".py",
   "mimetype": "text/x-python",
   "name": "python",
   "nbconvert_exporter": "python",
   "pygments_lexer": "ipython3",
   "version": "3.7.3"
  }
 },
 "nbformat": 4,
 "nbformat_minor": 2
}
