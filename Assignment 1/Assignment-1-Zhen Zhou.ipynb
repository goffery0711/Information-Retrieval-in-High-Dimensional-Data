{
 "cells": [
  {
   "cell_type": "markdown",
   "metadata": {},
   "source": [
    "# Assignment 1\n",
    "\n",
    "## Group 32"
   ]
  },
  {
   "cell_type": "markdown",
   "metadata": {},
   "source": [
    "*  Prerak Gupta -\n",
    "*  Chen Zhiyue -\n",
    "*  Jonathan Narvaez - 03708467\n",
    "*  Hao Ma - 03721529\n",
    "*  Zhen Zhou - 03721400"
   ]
  },
  {
   "cell_type": "code",
   "execution_count": null,
   "metadata": {},
   "outputs": [],
   "source": [
    "import numpy as np"
   ]
  },
  {
   "cell_type": "markdown",
   "metadata": {},
   "source": [
    "## Curse of Dimensionality"
   ]
  },
  {
   "cell_type": "markdown",
   "metadata": {},
   "source": [
    "### Task 1"
   ]
  },
  {
   "cell_type": "markdown",
   "metadata": {},
   "source": [
    "Let $\\mathit{C}_d = \\{\\mathit{x}\\in \\mathbb{R}^p\\mid\\|\\mathit{x}\\|_\\infty\\leq\\frac{d}{2}\\}$ denote the $\\mathit{p}$-dimensional hypercube of edge length $\\mathit{d}$, centered at the orign."
   ]
  },
  {
   "cell_type": "markdown",
   "metadata": {},
   "source": [
    "* Assume $\\mathit{X}$ to be uniformly distributed in $\\mathit{C}_1$. Determine $\\mathit{d}$ in dependence of $\\mathit{p}$ and $\\mathit{q}\\in[0, 1]$, such that\n",
    "$$Pr(\\mathit{X}\\in\\mathit{C}_d)=q$$\n",
    "holds."
   ]
  },
  {
   "cell_type": "code",
   "execution_count": null,
   "metadata": {},
   "outputs": [],
   "source": []
  },
  {
   "cell_type": "markdown",
   "metadata": {},
   "source": [
    "* Let the components of the $\\mathit{p}$-dimensional random variable $\\mathit{X}^p$ be independent and have the standard normal distribution. It is known that $Pr(|\\mathit{X}^1|\\leq2.576)=0.99$. For an arbitrary $\\mathit{p}$, determine the probability $Pr(\\|\\mathit{X}^p\\|_\\infty\\gt2.576)$ for any of the components of $\\mathit{X}^p$ to lie outside of the interval $[-2.576, 2.576]$. Evaluate the value for $\\mathit{p} = 2$, $\\mathit{p} = 3$ and $\\mathit{p} = 500$."
   ]
  },
  {
   "cell_type": "markdown",
   "metadata": {},
   "source": [
    "Solution:\n",
    "$$\n",
    "\\begin{align*}\n",
    "& Pr(|\\mathbf{X}^1| \\leq 2.576) = 0.99 &\\\\\n",
    "& Pr(\\|\\mathbf{X}^p\\| \\leq 2.576) = (0.99)^p & \\\\\n",
    "& \\Rightarrow \\quad \\,\\; Pr(\\|\\mathbf{X}^p\\|_\\infty\\gt2.576) = 1 - (0.99)^p &\n",
    "\\end{align*}\n",
    "$$\n",
    "\n",
    "$$\n",
    "\\begin{align*}\n",
    "& \\text{ when p = 2 }  , Pr(\\|\\mathbf{X}^2\\|_\\infty\\gt2.576) = 1 - (0.99)^2 \\approx 0.0199 \\\\\n",
    "& \\text{ when p = 3 }  , Pr(\\|\\mathbf{X}^3\\|_\\infty\\gt2.576) = 1 - (0.99)^3 \\approx 0.0297 \\\\\n",
    "& \\text{ when p = 500 }, Pr(\\|\\mathbf{X}^{500}\\|_\\infty\\gt2.576) = 1 - (0.99)^{500} \\approx 0.9934 \\\\\n",
    "\\end{align*}\n",
    "$$\n"
   ]
  },
  {
   "cell_type": "markdown",
   "metadata": {},
   "source": [
    "### Task 2"
   ]
  },
  {
   "cell_type": "markdown",
   "metadata": {},
   "source": [
    "Provide the PYTHON code to the following tasks (the code needs to be commented properly):"
   ]
  },
  {
   "cell_type": "markdown",
   "metadata": {},
   "source": [
    "* Sample 100 uniformly distributed random vectors from the box  $[-1, 1]^{d}$ for $\\mathit{d} = 2$."
   ]
  },
  {
   "cell_type": "code",
   "execution_count": 1,
   "metadata": {},
   "outputs": [
    {
     "data": {
      "text/plain": [
       "Text(0.5, 1.0, 'Uniformlydistributed random vectors from $[-1, 1]^2$')"
      ]
     },
     "execution_count": 1,
     "metadata": {},
     "output_type": "execute_result"
    },
    {
     "data": {
      "image/png": "[encoded data removed]",
      "text/plain": [
       "<Figure size 432x288 with 1 Axes>"
      ]
     },
     "metadata": {
      "needs_background": "light"
     },
     "output_type": "display_data"
    }
   ],
   "source": [
    "%matplotlib inline\n",
    "import numpy as np\n",
    "import matplotlib.pyplot as plt\n",
    "\n",
    "d = 2\n",
    "n = 100\n",
    "\n",
    "vector = 2*np.random.random((n, d)) - 1\n",
    "\n",
    "plt.scatter(vector[:, 0], vector[:, 1])\n",
    "plt.xlabel('x')\n",
    "plt.ylabel('y')\n",
    "plt.title('Uniformlydistributed random vectors from $[-1, 1]^2$')"
   ]
  },
  {
   "cell_type": "markdown",
   "metadata": {},
   "source": [
    "* For each of the 100 vectors determine the minimum angle to all other vectors. Then compute the average of these minimum angles. Note that for two vectors\n",
    "$\\mathit{x}, \\mathit{y}$ the cosine of the angle between the two vectors is defined as\n",
    "$$\\cos{((\\mathit{x}, \\mathit{y}))} = \\frac{\\langle \\mathit{x}, \\mathit{y} \\rangle}{\\|\\mathit{x}\\|\\|\\mathit{y}\\|}.$$"
   ]
  },
  {
   "cell_type": "code",
   "execution_count": 2,
   "metadata": {},
   "outputs": [
    {
     "name": "stdout",
     "output_type": "stream",
     "text": [
      "The average of these minimum angles: 0.030493025377827193\n"
     ]
    }
   ],
   "source": [
    "def angle(x, y):\n",
    "    if np.sqrt(np.dot(x,x)) ==0 or np.sqrt(np.dot(y,y)) ==0:\n",
    "        return error\n",
    "      \n",
    "    #the result of angle\n",
    "    angle = np.arccos(np.dot(x, y) / (np.sqrt(x.dot(x)) * np.sqrt(y.dot(y))))\n",
    "    return angle\n",
    "\n",
    "def avg_min_angle(x):\n",
    "     angle_min = np.zeros(x.shape[0])\n",
    "    \n",
    "    # calculate angular distance to nearest neighbor of vector \n",
    "     for i, a in enumerate(x):\n",
    "            angle_min[i] = min([angle(a, b)  for j, b in enumerate(x) if j!=i])\n",
    "    \n",
    "     return np.average(angle_min)\n",
    "\n",
    "avg_angle = avg_min_angle(vector)\n",
    "print('The average of these minimum angles: {}'.format(avg_angle))"
   ]
  },
  {
   "cell_type": "markdown",
   "metadata": {},
   "source": [
    "* Repeat the above for dimensions $\\mathit{d} = 1, ..., 1000$ and use the results to plot the average minimum angle against the dimension."
   ]
  },
  {
   "cell_type": "code",
   "execution_count": 3,
   "metadata": {},
   "outputs": [
    {
     "data": {
      "image/png": "[encoded data removed]",
      "text/plain": [
       "<Figure size 432x288 with 1 Axes>"
      ]
     },
     "metadata": {
      "needs_background": "light"
     },
     "output_type": "display_data"
    }
   ],
   "source": [
    "def ds_angle(dimensions, n=100):\n",
    "    \n",
    "      return list(map(lambda d: avg_min_angle(vector), dimensions))\n",
    "\n",
    "\n",
    "dimensions = np.arange(1, 1001)\n",
    "\n",
    "avg_angles = ds_angle(dimensions)\n",
    "\n",
    "\n",
    "# plot avg and std of nearest neighbor angular distances\n",
    "plt.plot(dimensions, avg_angles)\n",
    "plt.xlabel('Dimension ( $d$ )')\n",
    "plt.ylabel('Average NN Angular Distance')\n",
    "plt.title('Nearest Neighbor Angular Distance')\n",
    "#plt.legend(['$\\mu$', '$\\sigma$'])\n",
    "plt.grid()"
   ]
  },
  {
   "cell_type": "markdown",
   "metadata": {},
   "source": [
    "* Give an interpretation of the result. What conclusions can you draw for 2 randomly sampled vectors in a $\\mathit{d}$-dimensional space?"
   ]
  },
  {
   "cell_type": "code",
   "execution_count": null,
   "metadata": {},
   "outputs": [],
   "source": []
  },
  {
   "cell_type": "markdown",
   "metadata": {},
   "source": [
    "* Does the result change if the sample size increases?"
   ]
  },
  {
   "cell_type": "code",
   "execution_count": null,
   "metadata": {},
   "outputs": [],
   "source": []
  },
  {
   "cell_type": "markdown",
   "metadata": {},
   "source": [
    "## Statistical Decision Making"
   ]
  },
  {
   "cell_type": "markdown",
   "metadata": {},
   "source": [
    "### Task 3"
   ]
  },
  {
   "cell_type": "markdown",
   "metadata": {},
   "source": [
    "Answer the following questions. All answers must be justified."
   ]
  },
  {
   "cell_type": "markdown",
   "metadata": {},
   "source": [
    "* The numbers in Figure 1 show the probability of the respective event to happen (e.g. the probability for the event $\\mathit{X} = 1$ and $\\mathit{Y} = 1$ is 0.02). Is this table a\n",
    "probability table? If so, why?"
   ]
  },
  {
   "cell_type": "code",
   "execution_count": null,
   "metadata": {},
   "outputs": [],
   "source": []
  },
  {
   "cell_type": "markdown",
   "metadata": {},
   "source": [
    "* Based on Figure 1 give the conditional expectation $\\mathbb{E}_{Y \\mid X=2}[\\mathit{Y}]$ and the probability of the event $\\mathit{X}=1$ under the condition that $\\mathit{Y}=3$."
   ]
  },
  {
   "cell_type": "code",
   "execution_count": null,
   "metadata": {},
   "outputs": [],
   "source": []
  },
  {
   "cell_type": "markdown",
   "metadata": {},
   "source": [
    "* Is the function $\\mathit{p}(\\mathit{X}, \\mathit{Y})$ given by\n",
    "$$\n",
    "\\mathit{p}(\\mathit{X}, \\mathit{Y}) = \\begin{cases}\n",
    "1 & \\quad \\text{for } 0\\leq \\mathit{x}\\leq 1\\text{, } 0\\leq \\mathit{y}\\leq \\frac{1}{2} \\\\\n",
    "0 & \\quad \\text{otherwise} \\end{cases}\n",
    "$$\n",
    "a joint density function for two random variables?"
   ]
  },
  {
   "cell_type": "code",
   "execution_count": null,
   "metadata": {},
   "outputs": [],
   "source": []
  },
  {
   "cell_type": "markdown",
   "metadata": {},
   "source": [
    "* For two random variables $\\mathit{X}$ and $\\mathit{Y}$ the joint density function is given by\n",
    "$$\n",
    "\\mathit{p}(\\mathit{x}, \\mathit{y}) = \\begin{cases}\n",
    "2\\mathit{e}^{-(x+y)} & \\quad \\text{for } 0\\leq \\mathit{x}\\leq \\mathit{y}\\text{, } 0\\leq \\mathit{y} \\\\\n",
    "0 & \\quad \\text{otherwise.} \\end{cases}\n",
    "$$\n",
    "What are the marginal density functions for $\\mathit{X}$ and $\\mathit{Y}$ respectively?"
   ]
  },
  {
   "cell_type": "code",
   "execution_count": null,
   "metadata": {},
   "outputs": [],
   "source": []
  },
  {
   "cell_type": "markdown",
   "metadata": {},
   "source": [
    "* Let the joint density function of two random variables $\\mathit{X}$ and $\\mathit{Y}$ be given by\n",
    "$$\n",
    "\\mathit{p}(\\mathit{x}, \\mathit{y}) = \\begin{cases}\n",
    "\\frac{1}{15}(2\\mathit{x}+4\\mathit{y}) & \\quad \\text{for } 0\\leq \\mathit{x}\\leq 3\\text{, } 0\\leq \\mathit{y}\\leq 1 \\\\\n",
    "0 & \\quad \\text{otherwise.} \\end{cases}\n",
    "$$\n",
    "Determine the probability for $\\mathit{X}\\leq 2$ under the condition that $\\mathit{Y} = \\frac{1}{2}$."
   ]
  },
  {
   "cell_type": "code",
   "execution_count": null,
   "metadata": {},
   "outputs": [],
   "source": []
  },
  {
   "cell_type": "markdown",
   "metadata": {},
   "source": [
    "### Task 4"
   ]
  },
  {
   "cell_type": "markdown",
   "metadata": {},
   "source": [
    "Show that the covariance matrix $\\mathit{C}$ of any random variable $\\mathit{X}\\in\\mathbb{R}^p$ is symmetric positive semidefinite, i.e. $\\mathit{C}=\\mathit{C}^T$ and $\\mathit{x}^T\\mathit{Cx}\\geq 0$ for any covariance matrix $\\mathit{C}\\in\\mathbb{R}^{p\\times p}$ and any $\\mathit{x}\\in\\mathbb{R}^p$."
   ]
  },
  {
   "cell_type": "markdown",
   "metadata": {},
   "source": [
    "Solution:\n",
    "\n",
    "First we prove that $\\mathbf{C}=\\mathbf{C}^T$:\n",
    "$$\n",
    "\\begin{align*}\n",
    "& \\because \\quad \\,\\; \\mathbf{C} = \\mathbb{E}((\\mathbf{X}-\\mathbf{\\mu})(\\mathbf{X}-\\mathbf{\\mu})^T) \\\\\n",
    "& \\Rightarrow \\quad \\mathbf{C} = \\mathbb{E}((\\mathbf{X}-\\mathbf{\\mu})(\\mathbf{X}^T-\\mathbf{\\mu}^T)) \\\\\n",
    "& \\Rightarrow \\quad \\mathbf{C} = \\mathbb{E}(\\mathbf{XX}^T-\\mathbf{X\\mu}^T-\\mathbf{\\mu X}^T+\\mathbf{\\mu\\mu}^T) \\\\\n",
    "& \\Rightarrow \\quad \\mathbf{C} = \\mathbb{E}(\\mathbf{XX}^T)-\\mathbb{E}(\\mathbf{X\\mu}^T)-\\mathbb{E}(\\mathbf{\\mu X}^T)+\\mathbb{E}(\\mathbf{\\mu\\mu}^T) \\\\\n",
    "& \\Rightarrow \\quad \\mathbf{C} = \\mathbb{E}(\\mathbf{XX}^T)-\\mathbb{E}(\\mathbf{X})\\mathbf{\\mu}^T-\\mathbf{\\mu}\\mathbb{E}(\\mathbf{X}^T)+\\mathbf{\\mu\\mu}^T \\\\\n",
    "& \\Rightarrow \\quad \\mathbf{C} = \\mathbb{E}(\\mathbf{XX}^T)-\\mathbf{\\mu\\mu}^T-\\mathbf{\\mu\\mu}^T+\\mathbf{\\mu\\mu}^T \\\\\n",
    "& \\Rightarrow \\quad \\mathbf{C} = \\mathbb{E}(\\mathbf{XX}^T)-\\mathbf{\\mu\\mu}^T \\\\\n",
    "& \\Rightarrow \\quad \\mathbf{C}^T = \\mathbb{E}(\\mathbf{XX}^T)^T-(\\mathbf{\\mu\\mu}^T)^T \\\\\n",
    "& \\Rightarrow \\quad \\mathbf{C}^T = \\mathbb{E}((\\mathbf{XX}^T)^T)-(\\mathbf{\\mu\\mu}^T)^T \\\\\n",
    "& \\Rightarrow \\quad \\mathbf{C}^T = \\mathbb{E}((\\mathbf{X}^T)^T(\\mathbf{X})^T)-(\\mathbf{\\mu}^T)^T(\\mathbf{\\mu})^T \\\\\n",
    "& \\Rightarrow \\quad \\mathbf{C}^T = \\mathbb{E}(\\mathbf{X}\\mathbf{X}^T)-\\mathbf{\\mu}\\mathbf{\\mu}^T \\\\\n",
    "& \\therefore \\quad \\,\\; \\mathbf{C}^T = \\mathbf{C} \\\\\n",
    "\\end{align*}\n",
    "$$\n",
    "Next, we prove that $\\mathbf{x}^T\\mathbf{Cx}\\geq 0$:\n",
    "$$\n",
    "\\begin{align*}\n",
    "& \\because \\quad \\,\\; \\mathbf{C} = \\mathbb{E}((\\mathbf{X}-\\mathbf{\\mu})(\\mathbf{X}-\\mathbf{\\mu})^T) \\\\\n",
    "& \\Rightarrow \\quad \\mathbf{x}^T\\mathbf{Cx} = \\mathbf{x}^T\\mathbb{E}((\\mathbf{X}-\\mathbf{\\mu})(\\mathbf{X}-\\mathbf{\\mu})^T)\\mathbf{x} \\\\\n",
    "& \\Rightarrow \\quad \\mathbf{x}^T\\mathbf{Cx} = \\mathbb{E}(\\mathbf{x}^T(\\mathbf{X}-\\mathbf{\\mu})(\\mathbf{X}-\\mathbf{\\mu})^T\\mathbf{x}) \\\\\n",
    "& \\Rightarrow \\quad \\mathbf{x}^T\\mathbf{Cx} = \\mathbb{E}((\\mathbf{x}^T(\\mathbf{X}-\\mathbf{\\mu}))(\\mathbf{x}^T(\\mathbf{X}-\\mathbf{\\mu}))^T) \\\\\n",
    "& \\Rightarrow \\quad \\mathbf{x}^T\\mathbf{Cx} = \\mathbb{E}(YY^T) \\\\\n",
    "& \\Rightarrow \\quad \\mathbf{x}^T\\mathbf{Cx} = \\mathbb{E}(Y^2) \\\\\n",
    "& \\therefore \\quad \\mathbf{x}^T\\mathbf{Cx} \\geq 0\n",
    "\\end{align*}\n",
    "$$"
   ]
  },
  {
   "cell_type": "code",
   "execution_count": null,
   "metadata": {},
   "outputs": [],
   "source": []
  }
 ],
 "metadata": {
  "kernelspec": {
   "display_name": "Python 3",
   "language": "python",
   "name": "python3"
  },
  "language_info": {
   "codemirror_mode": {
    "name": "ipython",
    "version": 3
   },
   "file_extension": ".py",
   "mimetype": "text/x-python",
   "name": "python",
   "nbconvert_exporter": "python",
   "pygments_lexer": "ipython3",
   "version": "3.7.3"
  }
 },
 "nbformat": 4,
 "nbformat_minor": 2
}
