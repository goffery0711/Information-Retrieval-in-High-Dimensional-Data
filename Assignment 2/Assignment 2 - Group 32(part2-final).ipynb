{
 "cells": [
  {
   "cell_type": "markdown",
   "metadata": {},
   "source": [
    "# Assignment 2\n",
    "\n",
    "## Group 32"
   ]
  },
  {
   "cell_type": "markdown",
   "metadata": {},
   "source": [
    "*  Prerak Gupta - 03717790\n",
    "*  Chen Zhiyue - 03721645\n",
    "*  Jonathan Narvaez - 03708467\n",
    "*  Hao Ma - 03721529\n",
    "*  Zhen Zhou - 03721400"
   ]
  },
  {
   "cell_type": "markdown",
   "metadata": {},
   "source": [
    "## Principal Component Analysis"
   ]
  },
  {
   "cell_type": "markdown",
   "metadata": {},
   "source": [
    "### Task 1"
   ]
  },
  {
   "cell_type": "markdown",
   "metadata": {},
   "source": [
    "Let $\\mathit{X}\\in\\mathbb{R}^{p\\times N},\\mathit{p}\\lt\\mathit{N}$, be a centered matrix of $\\mathit{p}\\;\\mathit{N}$-dimensional data samples with the full-size SVD  $\\mathit{X}=\\mathit{U}\\mathit{\\Sigma}\\mathit{V}^T$. Assume that the singular values are sorted in a descending manner, i.e. $\\sigma_{1,1}\\geq ... \\geq\\sigma_{p,p}$."
   ]
  },
  {
   "cell_type": "markdown",
   "metadata": {},
   "source": [
    "* Provide a normalized vector $\\hat{\\mathit{s}}\\in\\mathit{R}^p$, such that\n",
    "$$\n",
    "\\hat{\\mathit{s}}=\\arg\\max_{\\mathit{s}\\;\\text{s.t.}\\;\\|\\mathit{s}\\|=1}\\mathit{s}^T\\mathit{\\Sigma\\Sigma}^T\\mathit{s}.\n",
    "$$\n"
   ]
  },
  {
   "cell_type": "code",
   "execution_count": null,
   "metadata": {},
   "outputs": [],
   "source": []
  },
  {
   "cell_type": "markdown",
   "metadata": {},
   "source": [
    "* Show that the empirical variance of the inner products of the columns of  $\\mathit{X}$ with a normalized vector  $\\mathbf{a}$,\n",
    "$$\n",
    "\\frac{1}{N}\\sum_{i=1}^N(\\mathit{a}^T\\mathit{x}_i)^2=\\frac{1}{N}\\mathit{a}^T\\mathit{XX}^T\\mathit{a},\n",
    "$$\n",
    "\n",
    "is maximized when $\\mathit{a}$, is set to the first column of $\\mathit{U}$, i.e. $\\mathit{a}=\\mathit{u}_1$ (note that $\\| \\mathit{a}\\|=1$).\n",
    "Hint: Write $\\mathit{a}$ as a linear combination of the columns of $\\mathit{U}$. Verify that such a representation does not affect the norm constraint."
   ]
  },
  {
   "cell_type": "code",
   "execution_count": null,
   "metadata": {},
   "outputs": [],
   "source": []
  },
  {
   "cell_type": "markdown",
   "metadata": {},
   "source": [
    "### Task 2"
   ]
  },
  {
   "cell_type": "markdown",
   "metadata": {},
   "source": [
    "For this task, download the modified version of the *Yale Face Database* provided on Moodle (task2_data.zip). The *Yale Face Database B* consists of single light source images of 10 subjects, each seen in different poses and illumination conditions. In the provided form the database is divided into 5 subsets. In subset 0 the subject is illuminated by an almost frontal light source, while for subsets 1-4 the light source is gradually moved along the horizon. Subset 0 will serve as the training set, while subsets 1-4 are used for testing."
   ]
  },
  {
   "cell_type": "markdown",
   "metadata": {},
   "source": [
    "* \n",
    "Write a function that takes as an input matrix $\\mathit{T}$ of vectorized images from subset 0. The output of this function are the 20 first singular vectors $\\mathit{U}[:,1]\\,,\\;...\\,,\\;\\mathit{U}[:,20]$. Display the first 3 vectors as images, i.e., reshape them to size $50\\times50$ and display them."
   ]
  },
  {
   "cell_type": "code",
   "execution_count": 1,
   "metadata": {},
   "outputs": [],
   "source": [
    "import os\n",
    "import cv2\n",
    "import re\n",
    "import operator\n",
    "import numpy as np\n",
    "from numpy import *\n",
    "from matplotlib import pyplot as plt"
   ]
  },
  {
   "cell_type": "code",
   "execution_count": 2,
   "metadata": {},
   "outputs": [],
   "source": [
    "def vectorizedimage(path):\n",
    "    path_list = os.listdir(path)\n",
    "    path_list.sort()\n",
    "    length = len(path_list)\n",
    "    image = np.zeros((2500,length))\n",
    "    label_list = []\n",
    "\n",
    "    for filename,i in zip(path_list,np.arange(0,length,1)):\n",
    "        label_str=re.sub(\"\\D\", \"\", filename)\n",
    "        label_num=int(label_str[0:2])\n",
    "        label_list.append(label_num)\n",
    "        filename_join = os.path.join(path,filename)\n",
    "        img = cv2.imread(filename_join,cv2.IMREAD_GRAYSCALE)\n",
    "        image[:,i] = img.reshape(-1)\n",
    "        label = np.array(label_list)\n",
    "    return image,label"
   ]
  },
  {
   "cell_type": "code",
   "execution_count": 3,
   "metadata": {},
   "outputs": [],
   "source": [
    "def extractU(T):\n",
    "    U,s,VT = np.linalg.svd(T)\n",
    "    U_out = U[:,0:20] \n",
    "    return U_out"
   ]
  },
  {
   "cell_type": "code",
   "execution_count": 4,
   "metadata": {},
   "outputs": [
    {
     "name": "stdout",
     "output_type": "stream",
     "text": [
      "(70,)\n"
     ]
    },
    {
     "data": {
      "image/png": "[encoded data removed]",
      "text/plain": [
       "<Figure size 432x288 with 3 Axes>"
      ]
     },
     "metadata": {
      "needs_background": "light"
     },
     "output_type": "display_data"
    }
   ],
   "source": [
    "path0 = './yaleBfaces/subset0'\n",
    "image0,label0 = vectorizedimage(path0)\n",
    "U0_out = extractU(image0)\n",
    "plt.subplot(1,3,1)\n",
    "plt.imshow(U0_out[:,0].reshape((50,50)),'gray')\n",
    "plt.subplot(1,3,2)\n",
    "plt.imshow(U0_out[:,1].reshape((50,50)),'gray')\n",
    "plt.subplot(1,3,3)\n",
    "plt.imshow(U0_out[:,2].reshape((50,50)),'gray')\n",
    "print(label0.shape)\n"
   ]
  },
  {
   "cell_type": "markdown",
   "metadata": {},
   "source": [
    "* Write a function that takes as an input the training set $\\mathit{T}$ (a matrix composed of vectorized pictures from subset 0), a vector containing the labels of the training set (i.e., if the $\\mathit{i}$-th sample belongs to class $\\mathit{j}$, the $\\mathit{i}$-th entry of the labels vector is $\\mathit{j}$. In this exercise $\\mathit{j}$ is an integer between 1 and 10), the test samples $\\mathit{S}$ (a matrix composed of vectorized pictures from subsets 1-4) and the corresponding labels (in a separate vector), the 20 singular vectors from the first step, and the parameter $\\mathit{K}$ that denotes how many of the PCs are used. Use the Euclidean distance to classify each sample image based on its three nearest neighbors (this is done by comparing the test samples with the training samples in the reduced space.). As an output give the fraction of images from $\\mathit{S}$ that were misclassified, i.e., the error rate. Repeat this for subsets 1 through 4 and for $\\mathit{k}=1\\,,\\;...\\,,\\;20$. Plot the error rate for each subset."
   ]
  },
  {
   "cell_type": "code",
   "execution_count": 9,
   "metadata": {},
   "outputs": [],
   "source": [
    "def errorrate(T,T_label,S,S_label,U0_out,k):\n",
    "    u_reduce = U0_out[:,0:k]\n",
    "    T_reduce = np.dot(u_reduce.T,T)\n",
    "    S_reduce = np.dot(u_reduce.T,S)\n",
    "    Slabel_knn = np.zeros(shape(S_label))\n",
    "    voteLabel = np.zeros((1,3))\n",
    "    for i in np.arange(0,S.shape[1]):\n",
    "        \n",
    "        ## step 1: calculate Euclidean distance\n",
    "        diff = S_reduce[:,i,None]-T_reduce\n",
    "        squaredDiff = diff ** 2\n",
    "        squaredDist = sum(squaredDiff,axis = 0)\n",
    "        distance = squaredDist ** 0.5\n",
    "        \n",
    "        ## step 2: sort the distance\n",
    "        sortedDistIndices = argsort(distance)\n",
    "        \n",
    "        sortindex = sortedDistIndices[0:3]\n",
    "        \n",
    "        voteLabel = T_label[sortindex]\n",
    "        if voteLabel[0] != voteLabel[1] and voteLabel[1] != voteLabel[2] and voteLabel[0] != voteLabel[2]:\n",
    "            maxIndex = voteLabel[0]\n",
    "        else:\n",
    "            appear_times = np.bincount(voteLabel)    # label n appears m times\n",
    "            maxIndex = np.argmax(appear_times)   # choose max times as maxindex            \n",
    "        \n",
    "        Slabel_knn[i] = maxIndex\n",
    "       \n",
    "    \n",
    "    \n",
    "    error = np.sum(S_label!=Slabel_knn,axis = 0)\n",
    "    errorrate = error/S_label.size\n",
    "        \n",
    "    return errorrate"
   ]
  },
  {
   "cell_type": "code",
   "execution_count": 10,
   "metadata": {},
   "outputs": [],
   "source": [
    "path1 = './yaleBfaces/subset1'\n",
    "Test_set1,Test_label1 = vectorizedimage(path1)\n",
    "path2 = './yaleBfaces/subset2'\n",
    "Test_set2,Test_label2 = vectorizedimage(path2)\n",
    "path3 = './yaleBfaces/subset3'\n",
    "Test_set3,Test_label3 = vectorizedimage(path3)\n",
    "path4 = './yaleBfaces/subset4'\n",
    "Test_set4,Test_label4 = vectorizedimage(path4)"
   ]
  },
  {
   "cell_type": "code",
   "execution_count": 11,
   "metadata": {
    "scrolled": false
   },
   "outputs": [
    {
     "name": "stdout",
     "output_type": "stream",
     "text": [
      "[0.81666667 0.55833333 0.6        0.41666667 0.3        0.20833333\n",
      " 0.15       0.14166667 0.125      0.11666667 0.11666667 0.05833333\n",
      " 0.05833333 0.05833333 0.05833333 0.05833333 0.05833333 0.05833333\n",
      " 0.05833333 0.05833333]\n"
     ]
    },
    {
     "data": {
      "image/png": "[encoded data removed]",
      "text/plain": [
       "<Figure size 432x288 with 1 Axes>"
      ]
     },
     "metadata": {
      "needs_background": "light"
     },
     "output_type": "display_data"
    }
   ],
   "source": [
    "e1 = np.zeros(20)\n",
    "e2 = np.zeros(20)\n",
    "e3 = np.zeros(20)\n",
    "e4 = np.zeros(20)\n",
    "krange = np.arange(1,21)\n",
    "for k in krange:\n",
    "    e1[k-1] = errorrate(image0,label0,Test_set1,Test_label1,U0_out,k)\n",
    "    e2[k-1] = errorrate(image0,label0,Test_set2,Test_label2,U0_out,k)\n",
    "    e3[k-1] = errorrate(image0,label0,Test_set3,Test_label3,U0_out,k)\n",
    "    e4[k-1] = errorrate(image0,label0,Test_set4,Test_label4,U0_out,k)\n",
    "plt.plot(krange,e1,color = 'r')\n",
    "plt.plot(krange,e2,color = 'b')\n",
    "plt.plot(krange,e3,color = 'y')\n",
    "plt.plot(krange,e4,color = 'g')\n",
    "print(e1)"
   ]
  },
  {
   "cell_type": "markdown",
   "metadata": {},
   "source": [
    "* Repeat the above experiment without using the first three singular vectors, i.e., use $\\mathit{K}=1\\,,\\;...\\,,\\;17$ singular vectors starting from the 4-th. Plot the error rate as before. How do you explain the difference in recognition rate?"
   ]
  },
  {
   "cell_type": "code",
   "execution_count": 12,
   "metadata": {},
   "outputs": [
    {
     "data": {
      "text/plain": [
       "[<matplotlib.lines.Line2D at 0x12f182ba8>]"
      ]
     },
     "execution_count": 12,
     "metadata": {},
     "output_type": "execute_result"
    },
    {
     "data": {
      "image/png": "[encoded data removed]",
      "text/plain": [
       "<Figure size 432x288 with 1 Axes>"
      ]
     },
     "metadata": {
      "needs_background": "light"
     },
     "output_type": "display_data"
    }
   ],
   "source": [
    "U0_new = U0_out[:,3:20]\n",
    "\n",
    "e1 = np.zeros(17)\n",
    "e2 = np.zeros(17)\n",
    "e3 = np.zeros(17)\n",
    "e4 = np.zeros(17)\n",
    "krange = np.arange(1,18)\n",
    "for k in krange:\n",
    "    e1[k-1] = errorrate(image0,label0,Test_set1,Test_label1,U0_new,k)\n",
    "    e2[k-1] = errorrate(image0,label0,Test_set2,Test_label2,U0_new,k)\n",
    "    e3[k-1] = errorrate(image0,label0,Test_set3,Test_label3,U0_new,k)\n",
    "    e4[k-1] = errorrate(image0,label0,Test_set4,Test_label4,U0_new,k)\n",
    "plt.plot(krange,e1,color = 'r')\n",
    "plt.plot(krange,e2,color = 'b')\n",
    "plt.plot(krange,e3,color = 'y')\n",
    "plt.plot(krange,e4,color = 'g')"
   ]
  },
  {
   "cell_type": "code",
   "execution_count": null,
   "metadata": {},
   "outputs": [],
   "source": []
  }
 ],
 "metadata": {
  "kernelspec": {
   "display_name": "Python 3",
   "language": "python",
   "name": "python3"
  },
  "language_info": {
   "codemirror_mode": {
    "name": "ipython",
    "version": 3
   },
   "file_extension": ".py",
   "mimetype": "text/x-python",
   "name": "python",
   "nbconvert_exporter": "python",
   "pygments_lexer": "ipython3",
   "version": "3.7.3"
  }
 },
 "nbformat": 4,
 "nbformat_minor": 2
}
