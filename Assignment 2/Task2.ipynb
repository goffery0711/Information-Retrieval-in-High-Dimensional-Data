{
 "cells": [
  {
   "cell_type": "code",
   "execution_count": 26,
   "metadata": {},
   "outputs": [],
   "source": [
    "import re\n",
    "import operator\n",
    "import imageio\n",
    "import numpy as np\n",
    "import cv2 as cv\n",
    "import os\n",
    "from matplotlib import pyplot as plt\n",
    "from pylab import *"
   ]
  },
  {
   "cell_type": "markdown",
   "metadata": {},
   "source": [
    "Write a function that takes as an input matrix T of vectorized images from subset 0. The output of this function are the 20 first singular vectors U[:, 1], . . . , U[:, 20]. Display the first 3 vectors as images, i.e., reshape them to size 50×50 and display them."
   ]
  },
  {
   "cell_type": "code",
   "execution_count": 2,
   "metadata": {
    "scrolled": true
   },
   "outputs": [],
   "source": [
    "def get_data_label(path):\n",
    "    path_list = os.listdir(path)\n",
    "    length = len(path_list)\n",
    "    Image = np.zeros((2500, length))\n",
    "    label = np.zeros((1,length))\n",
    "    i = 0\n",
    "    \n",
    "    for filename in path_list:\n",
    "        file_0 = os.path.join(path, filename)\n",
    "        img = cv.imread(file_0, cv.IMREAD_GRAYSCALE)\n",
    "        Image[:,i] = np.array(img).reshape(-1)\n",
    "        label_str=re.sub(\"\\D\", \"\", filename)\n",
    "        label_num=int(label_str[0:2])\n",
    "        label[:,i] = label_num\n",
    "        i = i+1\n",
    "    return Image, label\n",
    "\n",
    "\n",
    "#print(Input, Input.shape)    #得到输入图像  \n",
    "\n",
    "#k=0\n",
    "#for n in range(0,70):     #得到对应的label\n",
    "    #label[0,k] = n//7 + 1\n",
    "    #k = k+1\n"
   ]
  },
  {
   "cell_type": "code",
   "execution_count": 3,
   "metadata": {},
   "outputs": [],
   "source": [
    "#求svd\n",
    "def extractU(image):\n",
    "    \n",
    "    U,sigma,VT=np.linalg.svd(image)\n",
    "    U_out = U[:,0:20]\n",
    "    subplot(1,3,1)\n",
    "    plt.imshow(U_out[:,0].reshape((50,50)), 'gray')\n",
    "    subplot(1,3,2)\n",
    "    title('Extract')\n",
    "    plt.imshow(U_out[:,1].reshape((50,50)), 'gray')\n",
    "    subplot(1,3,3)\n",
    "    plt.imshow(U_out[:,2].reshape((50,50)), 'gray')\n",
    "    return U_out"
   ]
  },
  {
   "cell_type": "code",
   "execution_count": 4,
   "metadata": {},
   "outputs": [
    {
     "data": {
      "image/png": "[encoded data removed]",
      "text/plain": [
       "<Figure size 432x288 with 3 Axes>"
      ]
     },
     "metadata": {
      "needs_background": "light"
     },
     "output_type": "display_data"
    }
   ],
   "source": [
    "#生成图片\n",
    "path0 = './yaleBfaces/subset0'\n",
    "Train_set,Train_label=get_data_label(path0)\n",
    "U_out = extractU(Train_set)\n"
   ]
  },
  {
   "cell_type": "code",
   "execution_count": 5,
   "metadata": {},
   "outputs": [],
   "source": [
    "path1 = './yaleBfaces/subset1'\n",
    "Test_set1,Test_label1=get_data_label(path1)\n",
    "path2 = './yaleBfaces/subset2'\n",
    "Test_set2,Test_label2=get_data_label(path2)\n",
    "path3 = './yaleBfaces/subset3'\n",
    "Test_set3,Test_label3=get_data_label(path3)\n",
    "path4 = './yaleBfaces/subset4'\n",
    "Test_set4,Test_label4=get_data_label(path4)\n"
   ]
  },
  {
   "cell_type": "markdown",
   "metadata": {},
   "source": [
    "Write a function that takes as an input the training set T (a matrix composed of vectorized pictures from subset 0), a vector containing the labels of the training set (i.e., if the the i-th sample belongs to class j, the i-th entry of the labels vector is j. In this exercise j is an integer between 1 and 10), the test samples S (a matrix composed of vectorized pictures from subsets 1-4) and the corresponding labels (in a separate vector), the 20 singular vectors from the first step, and the parameter k that denotes how many of the PCs are used. Use the Euclidean distance to classify each sample image based on its three nearest neighbors. (This is done by comparing the test samples with the training samples in the reduced space.) As an output give the fraction of images from S that were misclassified, i.e., the error rate. Repeat this for subsets 1 through 4 and for k = 1,...,20. Plot the error rate for each subset."
   ]
  },
  {
   "cell_type": "code",
   "execution_count": 31,
   "metadata": {},
   "outputs": [],
   "source": [
    "def errorrate(T,T_label,S,S_label,U0_out,k):\n",
    "    u_reduce = U0_out[:,0:k]\n",
    "    T_reduce = np.dot(u_reduce.T, T)\n",
    "    S_reduce = np.dot(u_reduce.T, S)\n",
    "    Slabel_knn = np.zeros(shape(S_label))\n",
    "    for i in np.arange(0,S.shape[1]):\n",
    "        \n",
    "        ## step 1: calculate Euclidean distance\n",
    "        diff = S_reduce[:,i,None]-T_reduce\n",
    "        squaredDiff = diff ** 2\n",
    "        squaredDist = sum(squaredDiff,axis = 0)\n",
    "        distance = squaredDist ** 0.5\n",
    "        \n",
    "        ## step 2: sort the distance\n",
    "        sortedDistIndices = argsort(distance)   #.reshape((-1,1))\n",
    "        print(sortedDistIndices, sortedDistIndices[1])\n",
    "        classCount = {}\n",
    "        print(T_label)\n",
    "        for j in range(0,3):\n",
    "            ## step 3: choose the min k distance\n",
    "            voteLabel = T_label[:, sortedDistIndices[j]]\n",
    "            print(voteLabel)\n",
    "            ## step 4: count the times labels occur\n",
    "            classCount[voteLabel] = classCount.get(voteLabel,0)+1\n",
    "            \n",
    "        ## step 5: the max voted class will return\n",
    "        maxCount = 0\n",
    "        for key, value in classCount.items():\n",
    "            if value > maxCount:\n",
    "                maxCount = value\n",
    "                maxIndex = key\n",
    "        Slabel_knn[i] = maxIndex\n",
    "        \n",
    "    error = np.sum(S_label!=Slabel_knn,axis = 0)\n",
    "    errorrate = error/S_label.size\n",
    "        \n",
    "    return errorrate"
   ]
  },
  {
   "cell_type": "code",
   "execution_count": 32,
   "metadata": {},
   "outputs": [
    {
     "name": "stdout",
     "output_type": "stream",
     "text": [
      "[ 3  0  1  5  2 43 45  6  4 42 47 48 38 27 21 22 46 35 24  9 25 26 37  7\n",
      " 16 44 10 50 30 52 49 57 36 59 55 28 39 40 14 65 23 56 12 54 53 41 32 17\n",
      " 11 31  8 61 33 62 13 51 60 34 18 19 58 29 63 15 66 20 67 68 64 69] 0\n",
      "[[ 1.  1.  1.  1.  1.  1.  1.  2.  2.  2.  2.  2.  2.  2.  3.  3.  3.  3.\n",
      "   3.  3.  3.  4.  4.  4.  4.  4.  4.  4.  5.  5.  5.  5.  5.  5.  5.  6.\n",
      "   6.  6.  6.  6.  6.  6.  7.  7.  7.  7.  7.  7.  7.  8.  8.  8.  8.  8.\n",
      "   8.  8.  9.  9.  9.  9.  9.  9.  9. 10. 10. 10. 10. 10. 10. 10.]]\n",
      "[1.]\n"
     ]
    },
    {
     "ename": "TypeError",
     "evalue": "unhashable type: 'numpy.ndarray'",
     "output_type": "error",
     "traceback": [
      "\u001b[0;31m---------------------------------------------------------------------------\u001b[0m",
      "\u001b[0;31mTypeError\u001b[0m                                 Traceback (most recent call last)",
      "\u001b[0;32m<ipython-input-32-141e125811d3>\u001b[0m in \u001b[0;36m<module>\u001b[0;34m\u001b[0m\n\u001b[0;32m----> 1\u001b[0;31m \u001b[0merrorrate\u001b[0m\u001b[0;34m(\u001b[0m\u001b[0mTrain_set\u001b[0m\u001b[0;34m,\u001b[0m\u001b[0mTrain_label\u001b[0m\u001b[0;34m,\u001b[0m\u001b[0mTest_set1\u001b[0m\u001b[0;34m,\u001b[0m\u001b[0mTest_label1\u001b[0m\u001b[0;34m,\u001b[0m \u001b[0mU_out\u001b[0m \u001b[0;34m,\u001b[0m\u001b[0;36m20\u001b[0m\u001b[0;34m)\u001b[0m\u001b[0;34m\u001b[0m\u001b[0;34m\u001b[0m\u001b[0m\n\u001b[0m",
      "\u001b[0;32m<ipython-input-31-a74ad298e231>\u001b[0m in \u001b[0;36merrorrate\u001b[0;34m(T, T_label, S, S_label, U0_out, k)\u001b[0m\n\u001b[1;32m     22\u001b[0m             \u001b[0mprint\u001b[0m\u001b[0;34m(\u001b[0m\u001b[0mvoteLabel\u001b[0m\u001b[0;34m)\u001b[0m\u001b[0;34m\u001b[0m\u001b[0;34m\u001b[0m\u001b[0m\n\u001b[1;32m     23\u001b[0m             \u001b[0;31m## step 4: count the times labels occur\u001b[0m\u001b[0;34m\u001b[0m\u001b[0;34m\u001b[0m\u001b[0;34m\u001b[0m\u001b[0m\n\u001b[0;32m---> 24\u001b[0;31m             \u001b[0mclassCount\u001b[0m\u001b[0;34m[\u001b[0m\u001b[0mvoteLabel\u001b[0m\u001b[0;34m]\u001b[0m \u001b[0;34m=\u001b[0m \u001b[0mclassCount\u001b[0m\u001b[0;34m.\u001b[0m\u001b[0mget\u001b[0m\u001b[0;34m(\u001b[0m\u001b[0mvoteLabel\u001b[0m\u001b[0;34m,\u001b[0m\u001b[0;36m0\u001b[0m\u001b[0;34m)\u001b[0m\u001b[0;34m+\u001b[0m\u001b[0;36m1\u001b[0m\u001b[0;34m\u001b[0m\u001b[0;34m\u001b[0m\u001b[0m\n\u001b[0m\u001b[1;32m     25\u001b[0m \u001b[0;34m\u001b[0m\u001b[0m\n\u001b[1;32m     26\u001b[0m         \u001b[0;31m## step 5: the max voted class will return\u001b[0m\u001b[0;34m\u001b[0m\u001b[0;34m\u001b[0m\u001b[0;34m\u001b[0m\u001b[0m\n",
      "\u001b[0;31mTypeError\u001b[0m: unhashable type: 'numpy.ndarray'"
     ]
    }
   ],
   "source": [
    "errorrate(Train_set,Train_label,Test_set1,Test_label1, U_out ,20)"
   ]
  },
  {
   "cell_type": "code",
   "execution_count": null,
   "metadata": {},
   "outputs": [],
   "source": []
  }
 ],
 "metadata": {
  "kernelspec": {
   "display_name": "Python 3",
   "language": "python",
   "name": "python3"
  },
  "language_info": {
   "codemirror_mode": {
    "name": "ipython",
    "version": 3
   },
   "file_extension": ".py",
   "mimetype": "text/x-python",
   "name": "python",
   "nbconvert_exporter": "python",
   "pygments_lexer": "ipython3",
   "version": "3.7.3"
  }
 },
 "nbformat": 4,
 "nbformat_minor": 2
}
